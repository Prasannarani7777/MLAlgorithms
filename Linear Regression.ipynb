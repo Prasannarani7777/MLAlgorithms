{
 "cells": [
  {
   "cell_type": "code",
   "execution_count": 2,
   "id": "c66e921a",
   "metadata": {},
   "outputs": [],
   "source": [
    "import pandas as pd \n",
    "import numpy as np"
   ]
  },
  {
   "cell_type": "code",
   "execution_count": 3,
   "id": "c4915ab9",
   "metadata": {},
   "outputs": [
    {
     "data": {
      "text/html": [
       "<div>\n",
       "<style scoped>\n",
       "    .dataframe tbody tr th:only-of-type {\n",
       "        vertical-align: middle;\n",
       "    }\n",
       "\n",
       "    .dataframe tbody tr th {\n",
       "        vertical-align: top;\n",
       "    }\n",
       "\n",
       "    .dataframe thead th {\n",
       "        text-align: right;\n",
       "    }\n",
       "</style>\n",
       "<table border=\"1\" class=\"dataframe\">\n",
       "  <thead>\n",
       "    <tr style=\"text-align: right;\">\n",
       "      <th></th>\n",
       "      <th>X</th>\n",
       "      <th>Y</th>\n",
       "    </tr>\n",
       "  </thead>\n",
       "  <tbody>\n",
       "    <tr>\n",
       "      <th>0</th>\n",
       "      <td>1</td>\n",
       "      <td>2.0</td>\n",
       "    </tr>\n",
       "    <tr>\n",
       "      <th>1</th>\n",
       "      <td>2</td>\n",
       "      <td>3.4</td>\n",
       "    </tr>\n",
       "    <tr>\n",
       "      <th>2</th>\n",
       "      <td>3</td>\n",
       "      <td>4.5</td>\n",
       "    </tr>\n",
       "    <tr>\n",
       "      <th>3</th>\n",
       "      <td>4</td>\n",
       "      <td>5.4</td>\n",
       "    </tr>\n",
       "    <tr>\n",
       "      <th>4</th>\n",
       "      <td>5</td>\n",
       "      <td>6.0</td>\n",
       "    </tr>\n",
       "    <tr>\n",
       "      <th>5</th>\n",
       "      <td>6</td>\n",
       "      <td>7.4</td>\n",
       "    </tr>\n",
       "    <tr>\n",
       "      <th>6</th>\n",
       "      <td>7</td>\n",
       "      <td>8.5</td>\n",
       "    </tr>\n",
       "  </tbody>\n",
       "</table>\n",
       "</div>"
      ],
      "text/plain": [
       "   X    Y\n",
       "0  1  2.0\n",
       "1  2  3.4\n",
       "2  3  4.5\n",
       "3  4  5.4\n",
       "4  5  6.0\n",
       "5  6  7.4\n",
       "6  7  8.5"
      ]
     },
     "execution_count": 3,
     "metadata": {},
     "output_type": "execute_result"
    }
   ],
   "source": [
    "x=[i for i in range(1,8)]\n",
    "y=[2,3.4,4.5,5.4,6,7.4,8.5]\n",
    "dataframe=pd.DataFrame(data={\"X\":x,\"Y\":y})\n",
    "dataframe"
   ]
  },
  {
   "cell_type": "markdown",
   "id": "83906474",
   "metadata": {},
   "source": [
    "$$ m=\\frac{n * \\sum x * y-\\sum x \\sum y}{n* \\sum x^{2}-(\\sum x)^{2}} $$"
   ]
  },
  {
   "cell_type": "code",
   "execution_count": 4,
   "id": "f40599bb",
   "metadata": {},
   "outputs": [
    {
     "data": {
      "text/html": [
       "<div>\n",
       "<style scoped>\n",
       "    .dataframe tbody tr th:only-of-type {\n",
       "        vertical-align: middle;\n",
       "    }\n",
       "\n",
       "    .dataframe tbody tr th {\n",
       "        vertical-align: top;\n",
       "    }\n",
       "\n",
       "    .dataframe thead th {\n",
       "        text-align: right;\n",
       "    }\n",
       "</style>\n",
       "<table border=\"1\" class=\"dataframe\">\n",
       "  <thead>\n",
       "    <tr style=\"text-align: right;\">\n",
       "      <th></th>\n",
       "      <th>X</th>\n",
       "      <th>Y</th>\n",
       "      <th>XY</th>\n",
       "      <th>X^2</th>\n",
       "    </tr>\n",
       "  </thead>\n",
       "  <tbody>\n",
       "    <tr>\n",
       "      <th>0</th>\n",
       "      <td>1</td>\n",
       "      <td>2.0</td>\n",
       "      <td>2.0</td>\n",
       "      <td>1</td>\n",
       "    </tr>\n",
       "    <tr>\n",
       "      <th>1</th>\n",
       "      <td>2</td>\n",
       "      <td>3.4</td>\n",
       "      <td>6.8</td>\n",
       "      <td>4</td>\n",
       "    </tr>\n",
       "    <tr>\n",
       "      <th>2</th>\n",
       "      <td>3</td>\n",
       "      <td>4.5</td>\n",
       "      <td>13.5</td>\n",
       "      <td>9</td>\n",
       "    </tr>\n",
       "    <tr>\n",
       "      <th>3</th>\n",
       "      <td>4</td>\n",
       "      <td>5.4</td>\n",
       "      <td>21.6</td>\n",
       "      <td>16</td>\n",
       "    </tr>\n",
       "    <tr>\n",
       "      <th>4</th>\n",
       "      <td>5</td>\n",
       "      <td>6.0</td>\n",
       "      <td>30.0</td>\n",
       "      <td>25</td>\n",
       "    </tr>\n",
       "    <tr>\n",
       "      <th>5</th>\n",
       "      <td>6</td>\n",
       "      <td>7.4</td>\n",
       "      <td>44.4</td>\n",
       "      <td>36</td>\n",
       "    </tr>\n",
       "    <tr>\n",
       "      <th>6</th>\n",
       "      <td>7</td>\n",
       "      <td>8.5</td>\n",
       "      <td>59.5</td>\n",
       "      <td>49</td>\n",
       "    </tr>\n",
       "  </tbody>\n",
       "</table>\n",
       "</div>"
      ],
      "text/plain": [
       "   X    Y    XY  X^2\n",
       "0  1  2.0   2.0    1\n",
       "1  2  3.4   6.8    4\n",
       "2  3  4.5  13.5    9\n",
       "3  4  5.4  21.6   16\n",
       "4  5  6.0  30.0   25\n",
       "5  6  7.4  44.4   36\n",
       "6  7  8.5  59.5   49"
      ]
     },
     "execution_count": 4,
     "metadata": {},
     "output_type": "execute_result"
    }
   ],
   "source": [
    "dataframe['XY']= dataframe[\"X\"]*dataframe[\"Y\"]\n",
    "dataframe['X^2']= dataframe['X']**2\n",
    "dataframe"
   ]
  },
  {
   "cell_type": "code",
   "execution_count": 5,
   "id": "6f777606",
   "metadata": {},
   "outputs": [
    {
     "data": {
      "text/plain": [
       "177.8"
      ]
     },
     "execution_count": 5,
     "metadata": {},
     "output_type": "execute_result"
    }
   ],
   "source": [
    "sum_xy=dataframe['XY'].sum()\n",
    "sum_xy"
   ]
  },
  {
   "cell_type": "code",
   "execution_count": 6,
   "id": "ed941159",
   "metadata": {},
   "outputs": [
    {
     "data": {
      "text/plain": [
       "140"
      ]
     },
     "execution_count": 6,
     "metadata": {},
     "output_type": "execute_result"
    }
   ],
   "source": [
    "sum_x=dataframe['X^2'].sum()\n",
    "sum_x"
   ]
  },
  {
   "cell_type": "code",
   "execution_count": 7,
   "id": "f1573e56",
   "metadata": {},
   "outputs": [
    {
     "data": {
      "text/plain": [
       "28"
      ]
     },
     "execution_count": 7,
     "metadata": {},
     "output_type": "execute_result"
    }
   ],
   "source": [
    "xs= dataframe['X'].sum()\n",
    "xs"
   ]
  },
  {
   "cell_type": "code",
   "execution_count": 8,
   "id": "9a3e58e7",
   "metadata": {},
   "outputs": [
    {
     "data": {
      "text/plain": [
       "37.2"
      ]
     },
     "execution_count": 8,
     "metadata": {},
     "output_type": "execute_result"
    }
   ],
   "source": [
    "ys=dataframe['Y'].sum()\n",
    "ys"
   ]
  },
  {
   "cell_type": "code",
   "execution_count": 9,
   "id": "9f332a35",
   "metadata": {},
   "outputs": [
    {
     "data": {
      "text/plain": [
       "784"
      ]
     },
     "execution_count": 9,
     "metadata": {},
     "output_type": "execute_result"
    }
   ],
   "source": [
    "sum_x_h_2= xs**2\n",
    "sum_x_h_2"
   ]
  },
  {
   "cell_type": "code",
   "execution_count": 10,
   "id": "6bacd781",
   "metadata": {},
   "outputs": [
    {
     "data": {
      "text/plain": [
       "7"
      ]
     },
     "execution_count": 10,
     "metadata": {},
     "output_type": "execute_result"
    }
   ],
   "source": [
    "n=len(dataframe)\n",
    "n"
   ]
  },
  {
   "cell_type": "code",
   "execution_count": 11,
   "id": "5eca7ae5",
   "metadata": {},
   "outputs": [
    {
     "data": {
      "text/plain": [
       "1.0357142857142858"
      ]
     },
     "execution_count": 11,
     "metadata": {},
     "output_type": "execute_result"
    }
   ],
   "source": [
    "num = (n*(sum_xy))-(xs*ys)\n",
    "den=(n*(sum_x)-sum_x_h_2)\n",
    "m=num/den\n",
    "m"
   ]
  },
  {
   "cell_type": "markdown",
   "id": "9717b1bb",
   "metadata": {},
   "source": [
    "$$ b=\\frac{\\sum y - m \\sum x}{n} $$"
   ]
  },
  {
   "cell_type": "code",
   "execution_count": 12,
   "id": "645ad235",
   "metadata": {},
   "outputs": [
    {
     "data": {
      "text/plain": [
       "1.1714285714285713"
      ]
     },
     "execution_count": 12,
     "metadata": {},
     "output_type": "execute_result"
    }
   ],
   "source": [
    "num_b=(ys - m*xs)\n",
    "d=n\n",
    "b=num_b/d\n",
    "b"
   ]
  },
  {
   "cell_type": "markdown",
   "id": "25d2c5eb",
   "metadata": {},
   "source": [
    "$$ y_{pred}= m\\sum_{i=1}^{n}X+b $$"
   ]
  },
  {
   "cell_type": "code",
   "execution_count": 13,
   "id": "f4a0275a",
   "metadata": {},
   "outputs": [
    {
     "data": {
      "text/plain": [
       "[2.21, 3.24, 4.28, 5.31, 6.35, 7.39, 8.42]"
      ]
     },
     "execution_count": 13,
     "metadata": {},
     "output_type": "execute_result"
    }
   ],
   "source": [
    "y_pred=[round((m* xi + b),2) for xi in dataframe['X']]\n",
    "y_pred"
   ]
  },
  {
   "cell_type": "markdown",
   "id": "716e288d",
   "metadata": {},
   "source": [
    "$$ squarederror=\\sum_{i=0}^{n} (y_{pred} - y_{org})^{2} $$"
   ]
  },
  {
   "cell_type": "code",
   "execution_count": 14,
   "id": "d37ae3ce",
   "metadata": {},
   "outputs": [
    {
     "data": {
      "text/plain": [
       "0.2551999999999997"
      ]
     },
     "execution_count": 14,
     "metadata": {},
     "output_type": "execute_result"
    }
   ],
   "source": [
    "sq_err= sum([(y_pred_value - y_org_value)**2 \n",
    "       for y_pred_value,y_org_value in zip(y_pred,dataframe['Y'].values)])\n",
    "sq_err"
   ]
  },
  {
   "cell_type": "code",
   "execution_count": 15,
   "id": "9eb0d4b4",
   "metadata": {},
   "outputs": [
    {
     "data": {
      "image/png": "[encoded data removed]",
      "text/plain": [
       "<Figure size 432x288 with 1 Axes>"
      ]
     },
     "metadata": {
      "needs_background": "light"
     },
     "output_type": "display_data"
    }
   ],
   "source": [
    "import matplotlib.pyplot as plt\n",
    "plt.scatter(list(range(len(dataframe))),dataframe['Y'].values, label=\"original\")\n",
    "plt.plot(list(range(len(dataframe))),y_pred,label=\"predicted\",c='y')\n",
    "plt.legend()\n",
    "plt.show()"
   ]
  },
  {
   "cell_type": "code",
   "execution_count": 18,
   "id": "3b81eb74",
   "metadata": {},
   "outputs": [
    {
     "ename": "TypeError",
     "evalue": "unsupported operand type(s) for -: 'list' and 'int'",
     "output_type": "error",
     "traceback": [
      "\u001b[1;31m---------------------------------------------------------------------------\u001b[0m",
      "\u001b[1;31mTypeError\u001b[0m                                 Traceback (most recent call last)",
      "\u001b[1;32m~\\AppData\\Local\\Temp/ipykernel_5000/3137242458.py\u001b[0m in \u001b[0;36m<module>\u001b[1;34m\u001b[0m\n\u001b[0;32m     21\u001b[0m         \u001b[0msq_err\u001b[0m\u001b[1;33m\u001b[0m\u001b[1;33m\u001b[0m\u001b[0m\n\u001b[0;32m     22\u001b[0m \u001b[0mobj\u001b[0m\u001b[1;33m=\u001b[0m\u001b[0mLogisticRegression\u001b[0m\u001b[1;33m(\u001b[0m\u001b[1;33m)\u001b[0m\u001b[1;33m\u001b[0m\u001b[1;33m\u001b[0m\u001b[0m\n\u001b[1;32m---> 23\u001b[1;33m \u001b[0mobj\u001b[0m\u001b[1;33m.\u001b[0m\u001b[0mm_value\u001b[0m\u001b[1;33m(\u001b[0m\u001b[1;36m10\u001b[0m\u001b[1;33m,\u001b[0m\u001b[1;36m20\u001b[0m\u001b[1;33m,\u001b[0m\u001b[1;36m30\u001b[0m\u001b[1;33m,\u001b[0m\u001b[1;36m50\u001b[0m\u001b[1;33m,\u001b[0m\u001b[1;36m60\u001b[0m\u001b[1;33m,\u001b[0m\u001b[1;36m70\u001b[0m\u001b[1;33m)\u001b[0m\u001b[1;33m\u001b[0m\u001b[1;33m\u001b[0m\u001b[0m\n\u001b[0m\u001b[0;32m     24\u001b[0m \u001b[0mobj\u001b[0m\u001b[1;33m.\u001b[0m\u001b[0mb_value\u001b[0m\u001b[1;33m(\u001b[0m\u001b[1;36m20\u001b[0m\u001b[1;33m,\u001b[0m\u001b[1;36m50\u001b[0m\u001b[1;33m,\u001b[0m\u001b[1;36m70\u001b[0m\u001b[1;33m,\u001b[0m\u001b[1;36m80\u001b[0m\u001b[1;33m)\u001b[0m\u001b[1;33m\u001b[0m\u001b[1;33m\u001b[0m\u001b[0m\n",
      "\u001b[1;32m~\\AppData\\Local\\Temp/ipykernel_5000/3137242458.py\u001b[0m in \u001b[0;36mm_value\u001b[1;34m(self, n, sum_xy, sum_x, sum_y, sum_x_2, sum_x_h_2)\u001b[0m\n\u001b[0;32m      9\u001b[0m \u001b[1;33m\u001b[0m\u001b[0m\n\u001b[0;32m     10\u001b[0m     \u001b[1;32mdef\u001b[0m \u001b[0mm_value\u001b[0m\u001b[1;33m(\u001b[0m\u001b[0mself\u001b[0m\u001b[1;33m,\u001b[0m\u001b[0mn\u001b[0m\u001b[1;33m,\u001b[0m\u001b[0msum_xy\u001b[0m\u001b[1;33m,\u001b[0m\u001b[0msum_x\u001b[0m\u001b[1;33m,\u001b[0m\u001b[0msum_y\u001b[0m\u001b[1;33m,\u001b[0m\u001b[0msum_x_2\u001b[0m\u001b[1;33m,\u001b[0m\u001b[0msum_x_h_2\u001b[0m\u001b[1;33m)\u001b[0m\u001b[1;33m:\u001b[0m\u001b[1;33m\u001b[0m\u001b[1;33m\u001b[0m\u001b[0m\n\u001b[1;32m---> 11\u001b[1;33m         \u001b[0mnum\u001b[0m\u001b[1;33m=\u001b[0m\u001b[1;33m(\u001b[0m\u001b[0mn\u001b[0m\u001b[1;33m*\u001b[0m \u001b[0msum_x\u001b[0m\u001b[1;33m*\u001b[0m\u001b[0my\u001b[0m\u001b[1;33m)\u001b[0m\u001b[1;33m-\u001b[0m\u001b[1;33m(\u001b[0m\u001b[0msum_x\u001b[0m \u001b[1;33m*\u001b[0m \u001b[0msum_y\u001b[0m\u001b[1;33m)\u001b[0m\u001b[1;33m\u001b[0m\u001b[1;33m\u001b[0m\u001b[0m\n\u001b[0m\u001b[0;32m     12\u001b[0m         \u001b[0mden\u001b[0m\u001b[1;33m=\u001b[0m\u001b[1;33m(\u001b[0m\u001b[0mn\u001b[0m\u001b[1;33m*\u001b[0m \u001b[0msum_x_2\u001b[0m\u001b[1;33m)\u001b[0m \u001b[1;33m-\u001b[0m \u001b[1;33m(\u001b[0m\u001b[0msum_x_h_2\u001b[0m\u001b[1;33m)\u001b[0m\u001b[1;33m\u001b[0m\u001b[1;33m\u001b[0m\u001b[0m\n\u001b[0;32m     13\u001b[0m         \u001b[0mm\u001b[0m\u001b[1;33m=\u001b[0m\u001b[0mnum\u001b[0m\u001b[1;33m/\u001b[0m\u001b[0mden\u001b[0m\u001b[1;33m\u001b[0m\u001b[1;33m\u001b[0m\u001b[0m\n",
      "\u001b[1;31mTypeError\u001b[0m: unsupported operand type(s) for -: 'list' and 'int'"
     ]
    }
   ],
   "source": [
    "class LogisticRegression:\n",
    "    def _init_(self):\n",
    "        n=len(dataframe)\n",
    "        self.sum_xy=dataframe['XY'].sum()\n",
    "        self.sum_x=dataframe['X'].sum()\n",
    "        self.sum_y=dataframe['Y'].sum()\n",
    "        self.sum_x_2=dataframe['X^2'].sum()\n",
    "        self.sum_x_h_2=sum_x**2\n",
    "        \n",
    "    def m_value(self,n,sum_xy,sum_x,sum_y,sum_x_2,sum_x_h_2):\n",
    "        num=(n* sum_x*y)-(sum_x * sum_y)\n",
    "        den=(n* sum_x_2) - (sum_x_h_2)\n",
    "        m=num/den\n",
    "    def b_value(self,sum_y,m,sum_x,n):\n",
    "        num_b=sum_y-m*sum_x\n",
    "        den_b=n\n",
    "        b=num_b/den_b\n",
    "    def squarederror(self,Y):\n",
    "        sq_err= sum([(y_pred_value - y_org_value)**2 \n",
    "        for y_pred_value,y_org_value in zip(y_pred,dataframe['Y'].values)])\n",
    "        sq_err\n",
    "obj=LogisticRegression()\n",
    "obj.m_value(10,20,30,50,60,70)\n",
    "obj.b_value(20,50,70,80)\n"
   ]
  },
  {
   "cell_type": "code",
   "execution_count": null,
   "id": "0034d039",
   "metadata": {},
   "outputs": [],
   "source": []
  }
 ],
 "metadata": {
  "kernelspec": {
   "display_name": "Python 3 (ipykernel)",
   "language": "python",
   "name": "python3"
  },
  "language_info": {
   "codemirror_mode": {
    "name": "ipython",
    "version": 3
   },
   "file_extension": ".py",
   "mimetype": "text/x-python",
   "name": "python",
   "nbconvert_exporter": "python",
   "pygments_lexer": "ipython3",
   "version": "3.9.7"
  }
 },
 "nbformat": 4,
 "nbformat_minor": 5
}
